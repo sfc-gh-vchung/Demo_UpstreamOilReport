{
 "metadata": {
  "kernelspec": {
   "display_name": "Streamlit Notebook",
   "name": "streamlit"
  },
  "lastEditStatus": {
   "notebookId": "jhejsofmo2mm2m3sijjq",
   "authorId": "519129393339",
   "authorName": "VCHUNG",
   "authorEmail": "vincent.chung@snowflake.com",
   "sessionId": "54d62f28-915d-4545-a7b2-4716366e790e",
   "lastEditTime": 1753286043685
  }
 },
 "nbformat_minor": 5,
 "nbformat": 4,
 "cells": [
  {
   "cell_type": "markdown",
   "id": "247a3cdb-1280-434a-b4b0-cd1b214d6b55",
   "metadata": {
    "name": "ABOUT_main",
    "collapsed": false
   },
   "source": "# ABOUT\nThis notebook walks through preparing your Snowflake environment, creating objects, and downloading data for the upstream oil demo.  \n\nThe steps are:  \n 1) Create schemas aligned to medallion architecture  \n 2) Download raw data  \n 3) Upload to bronze layer"
  },
  {
   "cell_type": "markdown",
   "id": "7d53b11d-5062-415d-8e01-b97d662a1d5d",
   "metadata": {
    "name": "ABOUT_medallion",
    "collapsed": false
   },
   "source": "# Create Architecture\nMedallion Architecture is a data design pattern used in modern data lakes, data warehouses, and data lakehouses to structure data processing.  \n\nIt organizes data into three layers:\n  \n * Bronze Layer: Raw, untransformed data ingested from various sources. It serves as the foundation.  \n * Silver Layer: Cleaned and transformed data, ready for analysis or further processing.  \n * Gold Layer: Aggregated, highly curated data optimized for business intelligence or machine learning.\n\nThis structure ensures scalability, reliability, and ease of data management by providing incremental transformations across layers.  \n\nRun the next cell (labeled \"CreateSchemas\") to create these layers.\n\n![Bronze-Silver-Gold Schemas](https://miro.medium.com/v2/resize:fit:1011/1*9yThWS7vvZTGmhFnhVF19Q.png)  "
  },
  {
   "cell_type": "code",
   "id": "8d50cbf4-0c8d-4950-86cb-114990437ac9",
   "metadata": {
    "language": "sql",
    "name": "CreateSchemas"
   },
   "source": "--USE ROLE ACCOUNTADMIN;\n--USE WAREHOUSE DEMO_COMPUTE_XSMALL; --Use whatever xsmall warehouse on-hand. Doesn't have to be aliased same as mine.\n\n--CREATE DATABASE DEMO_ENERGY;\n--CREATE OR REPLACE SCHEMA DEMO_ENERGY.BRONZE; --We will drop-in our raw data here via Snowsight UI.\n--CREATE OR REPLACE SCHEMA DEMO_ENERGY.SILVER;\n--CREATE OR REPLACE SCHEMA DEMO_ENERGY.GOLD;",
   "execution_count": null,
   "outputs": []
  },
  {
   "cell_type": "markdown",
   "id": "3775908f-ca36-4846-8f38-5adca39217f2",
   "metadata": {
    "name": "ABOUT_data",
    "collapsed": false
   },
   "source": "# The Data\nLink: \nhttps://www.kaggle.com/datasets/ruslanzalevskikh/oil-well?resource=download\n\n### About (from Kaggle):\nThis dataset covers the main parameters of oil well operation. Daily real data on the work of oil wells.\n\nThis well was drilled in 2013 at an oil field in the north of Russia. \nThe depth of this well is 2400 meters.\n\nAn oil reservoir contains oil and gas dissolved in it under high pressure. There is water in the reservoir below the oil.\nAfter the completion of the well construction, a pump is lowered into the well, into which a liquid containing oil, gas and water is supplied. \n\nOn the surface of the well, a sample is taken every day, which shows how much water and oil is contained in this well in percent (column5 - \"Water cut (%)\") . \n\nFrom the well, the liquid enters the metering unit, which calculates how much fluid the well produces per day (column2 - \"Volume of liquid (m3 / day)\") and how much gas (column3 - \"Gas volume (m3 / day)\"). Knowing the above parameters, I calculate how much oil the well produces (column1 - \"Oil volume (m3 / day)\"). From the well, the liquid enters the metering unit, which calculates how much fluid the well produces per day (column2 - \"Volume of liquid (m3 / day)\") and how much gas (column3 - \"Gas volume (m3 / day)\"). Knowing the above parameters, I calculate how much oil the well produces (column1 - \"Oil volume (m3 / day)\") and how much water (column4 - \"Water volume (m3 / day))\").Also, data about the dynamic level (column7 - \"Dynamic level (meters)\") is taken every day. \n\nA sensor is installed in the pump, which is lowered into the well, which shows reservoir pressure in the well (column8 - \"Reservoir pressure (atm)\") As the well is operated, reservoir pressure begins to decrease, and oil production decreases accordingly. There is less oil and gas, more water - the oil field begins to deplete. The field's profitability is falling."
  },
  {
   "cell_type": "markdown",
   "id": "de290a91-a32f-4836-9e43-160047a5600e",
   "metadata": {
    "name": "LoadData",
    "collapsed": false
   },
   "source": "# Follow these steps below to load data using Snowsight UI.\nSnowsight UI is Snowflake’s modern, interactive web-based interface designed for data exploration, management, and querying. It provides a rich, user-friendly environment for performing the following tasks:\n\n * Querying and Analysis: Execute SQL queries and visualize results directly within the UI.\n * Dashboards & Visualizations: Build and share visual reports and dashboards.\n * Data Management: Easily manage and monitor data pipelines, warehouses, and user roles.\n * Collaboration: Share queries, results, and dashboards with other team members for seamless collaboration.\n\nSnowsight simplifies the Snowflake experience for both technical and non-technical users, making it easier to work with data in a more intuitive and interactive way.\n\n### Step 1: Download from Kaggle:\nThe package \"kagglehub\" in our notebook is inoperable. **Do not use this package.**  \nDownload file manually from link above.    \n\n### Step 2: \n 1) Upload to Snowflake using the UI.  \n 2) On the left-hand pane of this notebook are two tabs: Files and Databases. \n 3) Click *databases*.  \n 4) Scroll to and hover cursor over DEMO_ENERGY.BRONZE.\n 5) Click on the ellipses adjacent to BRONZE, then select \"Upload Data\" which will appear upon the click.\n\n![UploadUI](https://docs.snowflake.com/en/_images/load-data-into-table.png)  \n\n 6) Drag-and-drop file (or use browse) into loading area.  \n 7) Ensure **DEMO_ENERGY** database and **BRONZE** schema are selected.  \n 8) This demo requires the raw table to be named **KAGGLE_OILWELL**, but you can use whatever naming desired.\n\n\n### Database Location in this demo acct:\nDEMO_ENERGY.BRONZE.KAGGLE_OILWELL"
  }
 ]
}