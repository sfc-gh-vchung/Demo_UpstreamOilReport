{
 "metadata": {
  "kernelspec": {
   "display_name": "Streamlit Notebook",
   "name": "streamlit"
  },
  "lastEditStatus": {
   "notebookId": "h6nn7hmh5hlztcapsus3",
   "authorId": "519129393339",
   "authorName": "VCHUNG",
   "authorEmail": "vincent.chung@snowflake.com",
   "sessionId": "a2f2654e-75c9-4096-8828-f93b2e712a84",
   "lastEditTime": 1753201022950
  }
 },
 "nbformat_minor": 5,
 "nbformat": 4,
 "cells": [
  {
   "cell_type": "code",
   "id": "3775908f-ca36-4846-8f38-5adca39217f2",
   "metadata": {
    "language": "python",
    "name": "ImportPackages"
   },
   "source": "# fundamental packages\nimport streamlit as st\nimport pandas as pd\nimport numpy as np\n\n# ds packages\nfrom prophet import Prophet\n\n# viz packages\nimport matplotlib.pyplot as plt\nimport seaborn as sns\n\n# MLOps\nfrom snowflake.ml.registry import Registry #snowflake-ml-python\nfrom snowflake.ml._internal.utils import identifier\nfrom snowflake.ml.model import custom_model\nimport cloudpickle\n\n# active session\nfrom snowflake.snowpark.context import get_active_session\nsession = get_active_session()\n",
   "execution_count": null,
   "outputs": []
  },
  {
   "cell_type": "code",
   "id": "8d50cbf4-0c8d-4950-86cb-114990437ac9",
   "metadata": {
    "language": "sql",
    "name": "GetData_SQL"
   },
   "source": "SELECT *\nFROM DEMO_ENERGY.BRONZE.KAGGLE_OILWELL;",
   "execution_count": null,
   "outputs": []
  },
  {
   "cell_type": "markdown",
   "id": "b3907f03-747c-411a-a00f-9e354eba808d",
   "metadata": {
    "name": "PAGE_PandasTime",
    "collapsed": false
   },
   "source": "# Check & Modify Our Data\n![Alt text](https://miro.medium.com/v2/resize:fit:1400/0*5UXauCfV0YoVK8YG)"
  },
  {
   "cell_type": "code",
   "id": "fc0fa9c3-7145-4bd6-9b9d-b977ee984a10",
   "metadata": {
    "language": "python",
    "name": "to_pandas"
   },
   "outputs": [],
   "source": "df = GetData_SQL.to_pandas()\ndf.head()",
   "execution_count": null
  },
  {
   "cell_type": "code",
   "id": "ff5c17a5-3179-435a-8a27-384a0dda307a",
   "metadata": {
    "language": "python",
    "name": "check_describe"
   },
   "outputs": [],
   "source": "df.describe()",
   "execution_count": null
  },
  {
   "cell_type": "code",
   "id": "134cf1f0-8650-40a8-9a03-d692d4b4fb10",
   "metadata": {
    "language": "python",
    "name": "check_dtypes"
   },
   "outputs": [],
   "source": "print(df.dtypes)",
   "execution_count": null
  },
  {
   "cell_type": "code",
   "id": "8cd32fc0-c2d5-4ad8-a32d-bcb63438cfdb",
   "metadata": {
    "language": "python",
    "name": "fix_dtypes"
   },
   "outputs": [],
   "source": "df['DATE'] = pd.to_datetime(df['DATE'], format='%Y-%m-%d')\n\nprint(df.dtypes)\ndf.head()",
   "execution_count": null
  },
  {
   "cell_type": "code",
   "id": "3c4d8b07-6bf9-495f-87f5-2e03f9ef4b2b",
   "metadata": {
    "language": "python",
    "name": "fix_ColNames"
   },
   "outputs": [],
   "source": "df.columns = ['Date', 'Oil Vol.', 'Liquid Vol.', 'Gas Vol.',\n              'Water Vol.', 'Water Cut%', 'Working Hours', 'Dynamic Level', 'Reservoir Pressure (atm)']\n\ndf.info()",
   "execution_count": null
  },
  {
   "cell_type": "markdown",
   "id": "badf0159-a4a4-4e94-a85f-ed0a8142fe89",
   "metadata": {
    "name": "PAGE_Visualization",
    "collapsed": false
   },
   "source": "# Visual Analysis\n![Alt Tex](https://i.imgur.com/Bx4AkTJ.png)"
  },
  {
   "cell_type": "code",
   "id": "06ae0c5f-c350-4fd4-8a71-1571d62b9646",
   "metadata": {
    "language": "python",
    "name": "Volumes_TS",
    "collapsed": false,
    "codeCollapsed": true
   },
   "outputs": [],
   "source": "fig = plt.figure(figsize=(20,20))\nspec = fig.add_gridspec(4,2)\nax1 = fig.add_subplot(spec[0,0])\nax2 = fig.add_subplot(spec[0,1])\nax3 = fig.add_subplot(spec[1,0])\nax4 = fig.add_subplot(spec[1,1])\nax5 = fig.add_subplot(spec[2,0])\nax6 = fig.add_subplot(spec[2,1])\nax7 = fig.add_subplot(spec[3,0])\nax8 = fig.add_subplot(spec[3,1])\n\naxs = [ax1,ax2,ax3,ax4,ax5,ax6,ax7,ax8]\n\n# Adding color preference\nbg_color = '#FFF7E9'\nfor selection in axs:\n    selection.set_facecolor(bg_color)\n\ni = 0\n\nfor col in df.columns[1:9]:\n    axs[i].plot(df[\"Date\"],df[col],lw=0.34,linestyle=\"dotted\",c=\"#D09CFA\")\n    axs[i].plot(df[\"Date\"],df[col].rolling(window=30).mean(),c=\"#FF731D\")\n    axs[i].set_title(f\"{col} vs Time\",fontsize=16)\n    i+=1\n    \nplt.show()",
   "execution_count": null
  },
  {
   "cell_type": "markdown",
   "id": "7b65c4e5-ba20-401b-a13e-7a861b1932e5",
   "metadata": {
    "name": "AboutViz",
    "collapsed": false
   },
   "source": "# About Oil Volume vs Water Cut vs Rest\nUpstream oil analysis is key to optimizing production by analyzing the time series relationship between **Oil Volume, Water Cut Percent, and Down Time**. Tracking these metrics helps identify trends and correlations that impact production efficiency. For example, increasing water cut could indicate equipment issues or well depletion, while downtime directly affects oil volume. By examining these variables together, operators can pinpoint inefficiencies, reduce unplanned downtime, and improve reservoir management.  \n * **Oil Volume** indicates the amount of crude oil produced over time, serving as a core measure of production performance.\n  \n * **Water Cut Percent** refers to the proportion of water in the produced fluids, which can signal issues like reservoir depletion, equipment malfunctions, or the need for well interventions.\n  \n * **Down Time** measures the periods when production is halted, often due to mechanical failures, maintenance, or operational inefficiencies."
  },
  {
   "cell_type": "code",
   "id": "ecc90042-498c-457a-b260-04d5159c7409",
   "metadata": {
    "language": "python",
    "name": "Oil_Water_Rest",
    "collapsed": false,
    "codeCollapsed": true
   },
   "outputs": [],
   "source": "df[\"Down Time\"] = 24 - df[\"Working Hours\"]\n\nfig = plt.figure(figsize=(20,12))\nspec = fig.add_gridspec(1,1)\nax1 = fig.add_subplot(spec[0,0])\n\n# Plotting Oil volume and Rest Time on the primary y-axis\nax1.plot(df[\"Date\"], df[\"Oil Vol.\"].rolling(window=30).mean(), c=\"purple\")\nax1.plot(df[\"Date\"], df[\"Down Time\"].rolling(window=30).mean(), c=\"#FF731D\")\nax1.set_xlabel('Date')\n\n# Adding legend for the primary y-axis\nax1.legend([\"Oil volume (m3/day)\", \"Down Time\"], bbox_to_anchor=(1,1))\n\nax1.set_ylabel(\"Time (hr) (OR) Volume(m3/day)\")\n\n# Creating secondary y-axis for Water cut (%)\nax2 = ax1.twinx()\nax2.plot(df[\"Date\"], df['Water Cut%'].rolling(window=30).mean(), c=\"grey\",linestyle=\"dotted\")\nax2.set_ylabel('Water cut (%)')\n\n# Adding legend for the secondary y-axis\nax2.legend([\"Water cut (%)\"], bbox_to_anchor=(0.965,0.93))\n\nax2.set_title(\"Oil Volume (liters/day) vs Water Cut (%) vs Down Time\",fontsize=\"14\")\n\nvertical_line_date1 = '2015-06-01'  # Example date for the vertical line\nax2.axvline(pd.to_datetime(vertical_line_date1), color='black', linestyle='--', label='Event',lw=0.5)\n\nvertical_line_date2 = '2016-06-01'  # Example date for the vertical line\nax2.axvline(pd.to_datetime(vertical_line_date2), color='black', linestyle='--', label='Event',lw=0.5)\n\nax2.patch.set_alpha(0)\nax2.grid(False)\n\nplt.show()",
   "execution_count": null
  },
  {
   "cell_type": "markdown",
   "id": "917d063d-3eda-4e14-9181-c01ddb7906bc",
   "metadata": {
    "name": "PAGE_Prediction",
    "collapsed": false
   },
   "source": "# Forecast Oil Volume\n\nUsing the Facebook Prophet time series package, forecast oil volume.\n\n#### About the Package:\nCopy+Paste from github: https://facebook.github.io/prophet/  \n  \n*Prophet is a procedure for forecasting time series data based on an additive model where non-linear trends are fit with yearly, weekly, and daily seasonality, plus holiday effects. It works best with time series that have strong seasonal effects and several seasons of historical data. Prophet is robust to missing data and shifts in the trend, and typically handles outliers well.*\n\n*Prophet is open source software released by Facebook’s Core Data Science team. It is available for download on CRAN and PyPI.*\n\n**Accurate and Fast**  \n*Prophet is used in many applications across Facebook for producing reliable forecasts for planning and goal setting. We’ve found it to perform better than any other approach in the majority of cases. We fit models in Stan so that you get forecasts in just a few seconds.*\n\n**Fully Automatic**  \n*Get a reasonable forecast on messy data with no manual effort. Prophet is robust to outliers, missing data, and dramatic changes in your time series.*\n\n**Tunable Forecasts**  \n*The Prophet procedure includes many possibilities for users to tweak and adjust forecasts. You can use human-interpretable parameters to improve your forecast by adding your domain knowledge.*\n\n#### Resources:\nLink to Quick Start [https://facebook.github.io/prophet/docs/quick_start.html]  \n\n![Alt Text](https://pwlobby.b-cdn.net/wp-content/uploads/2023/04/Ron-Burgandy-forecast-meme.jpg)"
  },
  {
   "cell_type": "code",
   "id": "f06c3d01-0090-46fc-89b3-ba0f0ffb07f8",
   "metadata": {
    "language": "python",
    "name": "ModelingPackages"
   },
   "outputs": [],
   "source": "# Packages for Modeling\nfrom prophet import Prophet\nfrom snowflake.ml.registry import Registry\nfrom snowflake.ml.model import custom_model\nfrom snowflake.ml.model import model_signature",
   "execution_count": null
  },
  {
   "cell_type": "code",
   "id": "8ee1aaa9-5aaf-43a0-b2ad-40b472e18e73",
   "metadata": {
    "language": "python",
    "name": "CreateModelingData"
   },
   "outputs": [],
   "source": "df_prophet = df.reset_index()[['Date', 'Oil Vol.']]\ndf_prophet = df_prophet.rename(columns={'Date': 'DATE', 'Oil Vol.': 'OIL_VOL'})\n\ndf_prophet",
   "execution_count": null
  },
  {
   "cell_type": "code",
   "id": "a8f5d37a-ce25-4b3a-ad20-5fc30b7e79d7",
   "metadata": {
    "language": "python",
    "name": "SaveModelingData"
   },
   "outputs": [],
   "source": "# Save to Silver Schema for others to use\ndf_silver = session.create_dataframe(df_prophet)\ndf_silver.write.mode(\"overwrite\").save_as_table(\"DEMO_ENERGY.SILVER.KAGGLE_OILVOL_TS_V3\") # Update the version number as needed to demonstrate uploading to snow",
   "execution_count": null
  },
  {
   "cell_type": "code",
   "id": "008d383e-8995-48c6-b6bb-bcef67249cb6",
   "metadata": {
    "language": "sql",
    "name": "QueryUsingSQL"
   },
   "outputs": [],
   "source": "-- Demonstrate table saved to silver and we can now query using SQL\nSELECT *\nFROM DEMO_ENERGY.SILVER.KAGGLE_OILVOL_TS_V3 -- Update version number to mirror cell above.",
   "execution_count": null
  },
  {
   "cell_type": "code",
   "id": "69a1e442-759d-4518-b505-de79689c3d4e",
   "metadata": {
    "language": "python",
    "name": "DataForModel"
   },
   "outputs": [],
   "source": "#Pull Data (as pandas dataframe) for modeling\n#Need to rename.\n#Prophet requires columns \"ds\" and \"y\" with the dates and values respectively.\ndf = QueryUsingSQL.to_pandas().rename(columns={'DATE': 'ds', 'OIL_VOL': 'y'})\n\ndf.info()",
   "execution_count": null
  },
  {
   "cell_type": "code",
   "id": "63322db9-ff39-4753-92e5-31f91e874ab5",
   "metadata": {
    "language": "python",
    "name": "MakeProphetModel"
   },
   "outputs": [],
   "source": "#Initialize Prophet model\noil_forcast_model = Prophet()\n\noil_forcast_model.fit(df)\n\nfuture = oil_forcast_model.make_future_dataframe(periods = 365)\nforecast = oil_forcast_model.predict(future)\n\n# View the forecast\nprint(forecast[['ds', 'yhat', 'yhat_lower', 'yhat_upper']])",
   "execution_count": null
  },
  {
   "cell_type": "code",
   "id": "1c494891-fac6-490a-a79c-14955644f941",
   "metadata": {
    "language": "python",
    "name": "PrintForecast"
   },
   "outputs": [],
   "source": "forecast",
   "execution_count": null
  },
  {
   "cell_type": "code",
   "id": "f1ef0073-2187-484c-b7d7-3247fa8d8eb7",
   "metadata": {
    "language": "python",
    "name": "VizForecast"
   },
   "outputs": [],
   "source": "fig, ax = plt.subplots()\n\nax.fill_between(\n    x = forecast['ds'],\n    y1 = forecast['yhat_lower'],\n    y2 = forecast['yhat_upper'],\n    alpha = 0.25,\n    label = r'0.95 credible_interval'\n)\n\nsns.lineplot(x='ds', y='y', label='Oil Volume', data=df, ax=ax)\nsns.lineplot(x='ds', y='yhat', label='Y-Hat', data=forecast, ax=ax)\nax.legend(loc='upper left')\nax.set(title='Oil Volume vs Time', ylabel='Liters per Day', xlabel='Time');",
   "execution_count": null
  },
  {
   "cell_type": "code",
   "id": "42b7e9d5-aa4c-4d9e-9f50-cef7b4dfaf39",
   "metadata": {
    "language": "python",
    "name": "SaveForecast"
   },
   "outputs": [],
   "source": "# Save to Gold Schema for others to use\ndf_gold = session.create_dataframe(forecast)\ndf_gold.write.mode(\"overwrite\").save_as_table(\"DEMO_ENERGY.GOLD.KAGGLE_OILVOL_FORECAST_V2\")",
   "execution_count": null
  },
  {
   "cell_type": "code",
   "id": "19564fc5-8266-4108-99ca-8adcb5256fce",
   "metadata": {
    "language": "sql",
    "name": "QueryForecast"
   },
   "outputs": [],
   "source": "SELECT *\nFROM DEMO_ENERGY.GOLD.KAGGLE_OILVOL_FORECAST_V2",
   "execution_count": null
  },
  {
   "cell_type": "markdown",
   "id": "dc3bfbb5-9920-4a43-8286-3d8ffa1f3606",
   "metadata": {
    "name": "PAGE_MLOps",
    "collapsed": false
   },
   "source": "# Put Model into Production\n\n![Alt Text](https://miro.medium.com/v2/resize:fit:940/1*8d2JAxR_4IMXelZ8TsKiTA.png)"
  },
  {
   "cell_type": "code",
   "id": "03f01fb9-7ef0-4132-b716-0254d5c2187c",
   "metadata": {
    "language": "sql",
    "name": "CreateStageForModel"
   },
   "outputs": [],
   "source": "CREATE OR REPLACE STAGE DEMO_ENERGY.GOLD.MODEL_STAGE;",
   "execution_count": null
  },
  {
   "cell_type": "code",
   "id": "78baaa25-54e2-4058-8180-fdd77453ade8",
   "metadata": {
    "language": "python",
    "name": "SerializeModel"
   },
   "outputs": [],
   "source": "cloudpickle.dump(oil_forcast_model, open('oil_forcast_model.pkl', 'wb'))\n\n## Uplad the model into stage\nsession.file.put(\"oil_forcast_model.pkl\", \"@DEMO_ENERGY.GOLD.MODEL_STAGE/\", auto_compress=False)",
   "execution_count": null
  },
  {
   "cell_type": "code",
   "id": "c979a260-cd25-4875-b08e-f03d85e63bff",
   "metadata": {
    "language": "sql",
    "name": "CheckModelStage"
   },
   "outputs": [],
   "source": "ls @DEMO_ENERGY.GOLD.MODEL_STAGE",
   "execution_count": null
  },
  {
   "cell_type": "code",
   "id": "eb78c562-6da1-4935-8f02-c25f55923686",
   "metadata": {
    "language": "python",
    "name": "LoggingModel"
   },
   "outputs": [],
   "source": "# Initialize ModelContext with keyword arguments\n# my_model can be any supported model type\n# my_file_path is a local pickle file path\n\nmc = custom_model.ModelContext(\n    artifacts={\n        'config': 'oil_forcast_model.pkl'\n    }\n)\n\n\n# Define a custom model class that utilizes the context\nclass MyProphetModel(custom_model.CustomModel):\n\n    def __init__(self,context:custom_model.ModelContext) -> None:\n        super().__init__(context)\n        ## use 'file_path to load the piecked object\n        with open(self.context['config'],'rb') as f:\n            self.model =pickle.load(f)\n    @custom_model.inference_api\n    def predict(self,X:pd.DataFrame) -> pd.DataFrame:\n        X_copy = X.copy()\n        X_copy['ds']=pd.to_datetime(X_copy['ds'])# ensure correrct datetime\n        forecast = self.model.predict(X_copy)\n        res_df = forecast[[\"ds\", \"yhat\", \"yhat_lower\", \"yhat_upper\"]]\n        return res_df",
   "execution_count": null
  },
  {
   "cell_type": "code",
   "id": "eff7f8f2-6980-4640-bcd7-9685918f6525",
   "metadata": {
    "language": "python",
    "name": "cell1"
   },
   "outputs": [],
   "source": "df.head(5)",
   "execution_count": null
  },
  {
   "cell_type": "code",
   "id": "6796ec85-682a-42f6-810a-c1f964075e21",
   "metadata": {
    "language": "python",
    "name": "CREATE_TEST_DF"
   },
   "outputs": [],
   "source": "def create_datedf(max_date, period=7): \n    # Create a new DataFrame starting from max_date + 1 day, adding 7 days to each subsequent row\n    date_range = pd.date_range(start=max_date + pd.Timedelta(days=1), periods=period)\n    new_df = pd.DataFrame({'ds': date_range})\n    return new_df\n\nmax_date = df['ds'].max()\n\n#max_date\n\ndf_1 = create_datedf(max_date, period=10)\n\n## prediction on test data\nforecast_model = MyProphetModel(mc)\n\noutput = forecast_model.predict(df_1)\noutput.head(5)",
   "execution_count": null
  },
  {
   "cell_type": "markdown",
   "id": "7882f9ee-c2b9-4da0-a7e1-09ad06d2e657",
   "metadata": {
    "name": "CREATE_MODELREGISTRY",
    "collapsed": false
   },
   "source": "# Manage models using Model Registry\n  \nUse Snowpark model registry. This is the Snowflake native model versioning and deployment framework. This allows us to log models, tag parameters and metrics, track metadata, create versions, and ultimately execute batch inference tasks in a Snowflake warehouse or deploy to a Snowpark Container Service."
  },
  {
   "cell_type": "code",
   "id": "52a48098-8e70-4aee-b2b1-73f23b339d02",
   "metadata": {
    "language": "python",
    "name": "ModelRegistry"
   },
   "outputs": [],
   "source": "reg = Registry(session,database_name = \"DEMO_ENERGY\",schema_name= \"GOLD\")\n\ncustom_mv = reg.log_model(\n   forecast_model,\n    model_name=\"Prophet_forcast_model\",\n    version_name=\"v3\",\n    conda_dependencies=[\"prophet\"],\n    sample_input_data= df_1,\n    options={'relax_version': False},\n    comment = 'My Prophet forcast experiment using the CustomModel API'\n)",
   "execution_count": null
  },
  {
   "cell_type": "code",
   "id": "8c5b636b-4d42-41ae-9958-ceb3e971bbaa",
   "metadata": {
    "language": "python",
    "name": "cell2"
   },
   "outputs": [],
   "source": "reg.show_models()\n\nreg = Registry(session=session, database_name='DEMO_ENERGY', schema_name='GOLD')\n\nmv = reg.get_model('Prophet_forcast_model').version('v1')\n\npr = mv.run(df_1, function_name='PREDICT')",
   "execution_count": null
  },
  {
   "cell_type": "code",
   "id": "46c874a5-34fd-4990-b610-da7cb3ecda77",
   "metadata": {
    "language": "python",
    "name": "cell4"
   },
   "outputs": [],
   "source": "df_1.head()",
   "execution_count": null
  },
  {
   "cell_type": "code",
   "id": "b81b6a28-5cb3-4c87-959a-f49815eef45c",
   "metadata": {
    "language": "python",
    "name": "cell3"
   },
   "outputs": [],
   "source": "pr",
   "execution_count": null
  }
 ]
}