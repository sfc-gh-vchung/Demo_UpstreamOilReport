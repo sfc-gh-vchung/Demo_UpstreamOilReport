{
 "metadata": {
  "kernelspec": {
   "display_name": "Streamlit Notebook",
   "name": "streamlit"
  },
  "lastEditStatus": {
   "notebookId": "pfokfmnl6cu7swpsemf2",
   "authorId": "519129393339",
   "authorName": "VCHUNG",
   "authorEmail": "vincent.chung@snowflake.com",
   "sessionId": "bfec5a44-0b94-4e0f-a156-bcd19928d7c1",
   "lastEditTime": 1753119301200
  }
 },
 "nbformat_minor": 5,
 "nbformat": 4,
 "cells": [
  {
   "cell_type": "code",
   "id": "3775908f-ca36-4846-8f38-5adca39217f2",
   "metadata": {
    "language": "python",
    "name": "importpackages"
   },
   "source": "# Import python packages\nimport streamlit as st\nimport pandas as pd\nimport numpy as np\n\n# get prophet model\nfrom prophet import Prophet\nfrom snowflake.ml.registry import Registry\nfrom snowflake.ml.model import custom_model\nfrom snowflake.ml.model import model_signature\n\n# Viz\nimport seaborn as sns\nimport matplotlib.pyplot as plt\n\n# Active session\nfrom snowflake.snowpark.context import get_active_session\nsession = get_active_session()\n",
   "execution_count": null,
   "outputs": []
  },
  {
   "cell_type": "code",
   "id": "49fae9a0-30d6-4f8a-9b7e-23010f9a0d1b",
   "metadata": {
    "language": "python",
    "name": "CreateData"
   },
   "outputs": [],
   "source": "from datetime import date\ntoday = date.today()\nprint(today)\n\ndb ='DEMO_ENERGY'\nschema= 'GOLD'\nwarehouse = 'DEMO_COMPUTE_XSMALL'\n\n## function to create data\ndef create_datedf(max_date, period=7): \n    # Create a new DataFrame starting from max_date + 1 day, adding 7 days to each subsequent row\n    date_range = pd.date_range(start=max_date + pd.Timedelta(days=1), periods=period)\n    new_df = pd.DataFrame({'ds': date_range})\n    return new_df\n\n\nforecast_dates = create_datedf(today)\nforecast_dates.head() ",
   "execution_count": null
  },
  {
   "cell_type": "code",
   "id": "15c0c28e-42f1-44cb-846a-efabeb397173",
   "metadata": {
    "language": "python",
    "name": "GetModel"
   },
   "outputs": [],
   "source": "reg = Registry(session,database_name = db,schema_name= schema)\nmodel_name='PROPHET_FORCAST_MODEL'\nversion = 'V1'\nmv = reg.get_model('PROPHET_FORCAST_MODEL').version('V1')\n\npredicted_volume = mv.run(forecast_dates)",
   "execution_count": null
  },
  {
   "cell_type": "code",
   "id": "58b50897-29aa-4ad9-95b0-a29c68abfd07",
   "metadata": {
    "language": "python",
    "name": "cell1"
   },
   "outputs": [],
   "source": "predicted_volume['Created_date']=today\npredicted_volume.head()",
   "execution_count": null
  },
  {
   "cell_type": "code",
   "id": "82fcc854-89f1-4c13-a2e0-0c9b34e8bbc3",
   "metadata": {
    "language": "python",
    "name": "Write_To_Snowflake"
   },
   "outputs": [],
   "source": "sdf = session.createDataFrame(predicted_volume)\nsdf.write.mode(\"append\").save_as_table(\"my_forecast_volume\", table_type=\"transient\")",
   "execution_count": null
  },
  {
   "cell_type": "code",
   "id": "233c6a26-a769-4003-a390-4ede1d249810",
   "metadata": {
    "language": "sql",
    "name": "Check_TableSaved"
   },
   "outputs": [],
   "source": "select * \nFROM demo_energy.gold.my_forecast_volume",
   "execution_count": null
  },
  {
   "cell_type": "code",
   "id": "6cfb0b1e-8f17-4648-b6c1-c194134be9e0",
   "metadata": {
    "language": "python",
    "name": "visualize"
   },
   "outputs": [],
   "source": "forecast = predicted_volume\n# Plot the forecasted data (predicted values)\nplt.plot(forecast['ds'], forecast['yhat'], color='orange', label='Forecasted Sales')  # Red line for forecast\n\n# Optionally, add confidence intervals (forecast uncertainty)\nplt.fill_between(forecast['ds'], forecast['yhat_lower'], forecast['yhat_upper'], color='gray', alpha=0.3, label='Confidence Interval')\n\n# Add labels and title\nplt.xlabel('Date')\nplt.ylabel('Sales')\nplt.title('Oil Forecast vs Original Oil Volume')\nplt.legend()\n\n# Show the plot\nplt.xticks(rotation=45)\nplt.show()",
   "execution_count": null
  },
  {
   "cell_type": "code",
   "id": "c784ac73-4f94-40af-991c-08f4564b69e9",
   "metadata": {
    "language": "sql",
    "name": "Check_Model_Saved"
   },
   "outputs": [],
   "source": "ls @DEMO_ENERGY.GOLD.MODEL_STAGE;",
   "execution_count": null
  }
 ]
}